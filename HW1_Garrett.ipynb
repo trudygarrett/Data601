{
 "cells": [
  {
   "cell_type": "markdown",
   "id": "fbc2ef4e-da09-4343-92ad-b8f7f315ff38",
   "metadata": {},
   "source": [
    "#EXCERCISE 1 (3 PTS): DEFINE A VARIABLE (WITH THE NAME OF YOUR CHOOSING) FOR THE FOLLOWING SENTENCE: 'THIS_IS_A_SENTENCE_FOR_THE_MINI-LAB'"
   ]
  },
  {
   "cell_type": "code",
   "execution_count": 14,
   "id": "623e463e-bccb-4543-a910-b3d53482b151",
   "metadata": {},
   "outputs": [],
   "source": [
    "sentence='This_is_a_sentence_for_the_mini-lab'"
   ]
  },
  {
   "cell_type": "markdown",
   "id": "1d04e40c-8f0a-43bf-8759-13eb381a6294",
   "metadata": {},
   "source": [
    "#EXCERCISE 2 (3PTS): GIVEN THE SENTENCE IN THE VARIABLE ABOVE, CALCULATE HOW MANY CHARACTERS THE SENTENCE HAS USING THE LEN() FUNCTION"
   ]
  },
  {
   "cell_type": "code",
   "execution_count": 2,
   "id": "6a3b6993-738b-44cd-93aa-ff2c90a3bf25",
   "metadata": {},
   "outputs": [
    {
     "data": {
      "text/plain": [
       "35"
      ]
     },
     "execution_count": 2,
     "metadata": {},
     "output_type": "execute_result"
    }
   ],
   "source": [
    "len(sentence)"
   ]
  },
  {
   "cell_type": "markdown",
   "id": "2cd54f83-73ef-47bd-88de-d54e922c8b0d",
   "metadata": {},
   "source": [
    "#EXERCISE 3 (5pts): CREATE A NEW LIST WHERE EACH WORD IS A SEPARATE ELEMENT IN THE LIST"
   ]
  },
  {
   "cell_type": "code",
   "execution_count": 12,
   "id": "4d9b0eed-887e-4c83-ab9b-d4b4b7ea0e57",
   "metadata": {},
   "outputs": [
    {
     "name": "stdout",
     "output_type": "stream",
     "text": [
      "['This', 'is', 'a', 'sentence', 'for', 'the', 'mini-lab']\n"
     ]
    }
   ],
   "source": [
    "wordsplit=sentence.split('_')\n",
    "print(wordsplit)"
   ]
  },
  {
   "cell_type": "markdown",
   "id": "a607c343-c8e4-4e8b-953a-25534745b3be",
   "metadata": {},
   "source": [
    "#EXCERSIE 4: (5 points) COUNT HOW MANY WORDS THE SENTENCE HAS "
   ]
  },
  {
   "cell_type": "code",
   "execution_count": 13,
   "id": "064bd954-5b6b-406b-be74-645f594de622",
   "metadata": {},
   "outputs": [
    {
     "data": {
      "text/plain": [
       "7"
      ]
     },
     "execution_count": 13,
     "metadata": {},
     "output_type": "execute_result"
    }
   ],
   "source": [
    "len(wordsplit)"
   ]
  },
  {
   "cell_type": "markdown",
   "id": "ebe303aa-1479-471f-a365-bc55c21d6b5a",
   "metadata": {},
   "source": [
    "#EXCERCISE 5: (10 PTS) DEFINE A LIST WITH THE FOLLOWING NAMES"
   ]
  },
  {
   "cell_type": "code",
   "execution_count": 18,
   "id": "6d0afa9c-6a59-4a76-b9c2-d338a22d57ab",
   "metadata": {},
   "outputs": [
    {
     "name": "stdout",
     "output_type": "stream",
     "text": [
      "['Olivia', 'Noah', 'Amelia']\n"
     ]
    }
   ],
   "source": [
    "names=[\"Liam\", \"Olivia\", \"Emma\", \"Noah\", \"Elijah\", \"Amelia\"]\n",
    "odd_positioned_elements = names[1::2]\n",
    "print(odd_positioned_elements)"
   ]
  },
  {
   "cell_type": "code",
   "execution_count": null,
   "id": "7c0b50d7-3eef-446e-8660-26631fdc48fe",
   "metadata": {},
   "outputs": [],
   "source": []
  }
 ],
 "metadata": {
  "kernelspec": {
   "display_name": "Python 3 (ipykernel)",
   "language": "python",
   "name": "python3"
  },
  "language_info": {
   "codemirror_mode": {
    "name": "ipython",
    "version": 3
   },
   "file_extension": ".py",
   "mimetype": "text/x-python",
   "name": "python",
   "nbconvert_exporter": "python",
   "pygments_lexer": "ipython3",
   "version": "3.11.10"
  }
 },
 "nbformat": 4,
 "nbformat_minor": 5
}
