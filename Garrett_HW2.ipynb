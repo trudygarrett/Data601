{
 "cells": [
  {
   "cell_type": "code",
   "execution_count": 1,
   "id": "3f7df786-8ee4-435e-949c-048004dad0c8",
   "metadata": {},
   "outputs": [],
   "source": [
    "#!pip install names"
   ]
  },
  {
   "cell_type": "code",
   "execution_count": 2,
   "id": "914c8cf3-826d-45cc-a312-52f7e7de4011",
   "metadata": {},
   "outputs": [],
   "source": [
    "import names"
   ]
  },
  {
   "cell_type": "code",
   "execution_count": 3,
   "id": "0deed9f5-1a12-4881-8fa9-b265a897f502",
   "metadata": {},
   "outputs": [],
   "source": [
    "#Q1Create a list of 8 first-names. Name of this list should be \"fname\"."
   ]
  },
  {
   "cell_type": "code",
   "execution_count": 4,
   "id": "30863bea-f87d-46b8-a077-8411daea90bc",
   "metadata": {},
   "outputs": [],
   "source": [
    "fname = [names.get_first_name() for _ in range(8)]"
   ]
  },
  {
   "cell_type": "code",
   "execution_count": 5,
   "id": "4018269b-857f-42a7-ae42-66c7819769db",
   "metadata": {},
   "outputs": [],
   "source": [
    "#Print your list."
   ]
  },
  {
   "cell_type": "code",
   "execution_count": 6,
   "id": "91c80c20-fd09-4706-94de-e709655594f7",
   "metadata": {},
   "outputs": [
    {
     "name": "stdout",
     "output_type": "stream",
     "text": [
      "Initial fname list: ['Mark', 'Lera', 'Betty', 'Lynne', 'Minnie', 'Scott', 'Nathaniel', 'Lillian']\n"
     ]
    }
   ],
   "source": [
    "print(\"Initial fname list:\", fname)"
   ]
  },
  {
   "cell_type": "code",
   "execution_count": 7,
   "id": "afd88aa9-efda-43aa-b7f5-9f0f8a9ee1f1",
   "metadata": {},
   "outputs": [],
   "source": [
    "#(i) Remove the last item from \"fname\" list"
   ]
  },
  {
   "cell_type": "code",
   "execution_count": 8,
   "id": "29957319-03e0-4051-82fd-95b8f9e7f60b",
   "metadata": {},
   "outputs": [
    {
     "name": "stdout",
     "output_type": "stream",
     "text": [
      "After removing the last fname: ['Mark', 'Lera', 'Betty', 'Lynne', 'Minnie', 'Scott', 'Nathaniel']\n"
     ]
    }
   ],
   "source": [
    "fname.pop()\n",
    "print(\"After removing the last fname:\", fname)"
   ]
  },
  {
   "cell_type": "code",
   "execution_count": 9,
   "id": "e7b7eba0-7de8-4c8a-9d0c-4809e8de1847",
   "metadata": {},
   "outputs": [],
   "source": [
    "#(ii) Insert new first name between the first and second names "
   ]
  },
  {
   "cell_type": "code",
   "execution_count": 10,
   "id": "78c922a1-da77-4e6d-b0ec-d38fb740117f",
   "metadata": {},
   "outputs": [
    {
     "name": "stdout",
     "output_type": "stream",
     "text": [
      "After inserting new name between orginal first two names: ['Mark', 'Sarah', 'Lera', 'Betty', 'Lynne', 'Minnie', 'Scott', 'Nathaniel']\n"
     ]
    }
   ],
   "source": [
    "fname.insert(1, names.get_first_name())\n",
    "print(\"After inserting new name between orginal first two names:\", fname)"
   ]
  },
  {
   "cell_type": "code",
   "execution_count": 11,
   "id": "fe4c00b1-2cb4-42ed-a6c9-bb17d4f0ef1f",
   "metadata": {},
   "outputs": [],
   "source": [
    "#(iii) Pop out the 3rd item in fname"
   ]
  },
  {
   "cell_type": "code",
   "execution_count": 12,
   "id": "469b4e24-10f3-4759-8916-cde8d12e5422",
   "metadata": {},
   "outputs": [
    {
     "name": "stdout",
     "output_type": "stream",
     "text": [
      "After removing third name: ['Mark', 'Sarah', 'Betty', 'Lynne', 'Minnie', 'Scott', 'Nathaniel']\n"
     ]
    }
   ],
   "source": [
    "fname.pop(2)\n",
    "print(\"After removing third name:\", fname)\n"
   ]
  },
  {
   "cell_type": "code",
   "execution_count": 13,
   "id": "9956d4fc-a871-4065-8985-4d761c7a8292",
   "metadata": {},
   "outputs": [],
   "source": [
    "#iv Add 3 random names to the end of fname"
   ]
  },
  {
   "cell_type": "code",
   "execution_count": 14,
   "id": "33a614a0-5198-478b-982f-f5d8336983d6",
   "metadata": {},
   "outputs": [
    {
     "name": "stdout",
     "output_type": "stream",
     "text": [
      "After adding three names at end: ['Mark', 'Sarah', 'Betty', 'Lynne', 'Minnie', 'Scott', 'Nathaniel', 'Racheal', 'Charles', 'Tony']\n"
     ]
    }
   ],
   "source": [
    "for _ in range(3):\n",
    "    fname.append(names.get_first_name())\n",
    "print(\"After adding three names at end:\", fname)"
   ]
  },
  {
   "cell_type": "code",
   "execution_count": 15,
   "id": "ec1ea629-3e49-4cf8-a8eb-22322cf68053",
   "metadata": {},
   "outputs": [],
   "source": [
    "#v Remove 3  items from fname list"
   ]
  },
  {
   "cell_type": "code",
   "execution_count": 16,
   "id": "ba3d5784-25e8-41d9-bd8a-ac967ff13b17",
   "metadata": {},
   "outputs": [
    {
     "name": "stdout",
     "output_type": "stream",
     "text": [
      "After removing last three names: ['Mark', 'Sarah', 'Betty', 'Lynne', 'Minnie', 'Scott', 'Nathaniel']\n"
     ]
    }
   ],
   "source": [
    "for _ in range(3):\n",
    "    fname.pop()\n",
    "print(\"After removing last three names:\", fname)"
   ]
  },
  {
   "cell_type": "code",
   "execution_count": 17,
   "id": "a3461fca-7c21-4b5f-9459-4af4d963ac08",
   "metadata": {},
   "outputs": [
    {
     "name": "stdout",
     "output_type": "stream",
     "text": [
      "After extending with secondary list of first names: ['Mark', 'Sarah', 'Betty', 'Lynne', 'Minnie', 'Scott', 'Nathaniel', 'Brenda', 'Charles', 'Lucy']\n"
     ]
    }
   ],
   "source": [
    "### Create a second list with three new first-names\n",
    "second_fnames = [names.get_first_name() for _ in range(3)]\n",
    "### Add these three at the end of your \"fname\" list with the \"extend\" method\n",
    "fname.extend(second_fnames)\n",
    "print(\"After extending with secondary list of first names:\", fname)\n"
   ]
  },
  {
   "cell_type": "code",
   "execution_count": 18,
   "id": "2222e781-bd91-46b9-b54e-815842629aca",
   "metadata": {},
   "outputs": [],
   "source": [
    "#Explain when to use append and extend.  Use append for adding one item. Use extend for adding more than one item. "
   ]
  },
  {
   "cell_type": "code",
   "execution_count": 19,
   "id": "94c16a2e-ed98-4e2d-98cd-dcbc80be69dc",
   "metadata": {},
   "outputs": [
    {
     "name": "stdout",
     "output_type": "stream",
     "text": [
      "Sorted last names: ['Atkins', 'Baez', 'Barnes', 'Davis', 'Hines', 'Lowery', 'Marsaw', 'Stuart', 'Ward', 'Wendt']\n"
     ]
    }
   ],
   "source": [
    "#Q2 Create list of 10 last names.sort alphabetically\n",
    "lnames = [names.get_last_name() for _ in range(10)]\n",
    "lnames.sort()\n",
    "print(\"Sorted last names:\", lnames)\n"
   ]
  },
  {
   "cell_type": "code",
   "execution_count": 20,
   "id": "243669aa-bbd1-42bb-9fa4-da483399b7c3",
   "metadata": {},
   "outputs": [],
   "source": [
    "import random"
   ]
  },
  {
   "cell_type": "code",
   "execution_count": 21,
   "id": "857b9bdb-cc47-4880-a596-545149480258",
   "metadata": {},
   "outputs": [
    {
     "name": "stdout",
     "output_type": "stream",
     "text": [
      "Birth years: [1994, 2009, 1977, 2004, 1950, 2015, 1977, 2001, 2001, 2021]\n",
      "Birth months: [8, 5, 1, 10, 8, 3, 5, 9, 8, 8]\n",
      "Birth days: [11, 10, 1, 10, 27, 27, 4, 16, 25, 16]\n"
     ]
    }
   ],
   "source": [
    "# Q3. Create random birth years months and days\n",
    "byears = [random.randint(1950, 2021) for _ in range(10)]\n",
    "print(\"Birth years:\", byears)\n",
    "\n",
    "bmonths = [random.randint(1, 12) for _ in range(10)]\n",
    "print(\"Birth months:\", bmonths)\n",
    "\n",
    "bdays = []\n",
    "for month in bmonths:\n",
    "    if month in [4, 6, 9, 11]:  # 30 days\n",
    "        bdays.append(random.randint(1, 30))\n",
    "    elif month == 2:  # February\n",
    "        bdays.append(random.randint(1, 28))\n",
    "    else:  # 31 days\n",
    "        bdays.append(random.randint(1, 31))\n",
    "print(\"Birth days:\", bdays)"
   ]
  },
  {
   "cell_type": "code",
   "execution_count": 22,
   "id": "e356d3b6-42d0-4211-8f64-1edc806b99a5",
   "metadata": {},
   "outputs": [],
   "source": [
    " from datetime import datetime"
   ]
  },
  {
   "cell_type": "code",
   "execution_count": 23,
   "id": "bb526d9b-0b3b-4ecd-889a-c610d039aac7",
   "metadata": {},
   "outputs": [
    {
     "name": "stdout",
     "output_type": "stream",
     "text": [
      "Credit Approval: ['No', 'No', 'No', 'No', 'Yes', 'No', 'No', 'No', 'No', 'No']\n"
     ]
    }
   ],
   "source": [
    "#Create credit scores and credit approval decisions\n",
    "creditscores = [random.randint(100, 800) for _ in range(10)]\n",
    "currentyear = datetime.now().year\n",
    "\n",
    "CreditApproval = []\n",
    "for i in range(10):\n",
    "    age = currentyear - byears[i]\n",
    "    if age <= 17:\n",
    "        CreditApproval.append(\"No\")\n",
    "    else:\n",
    "        if creditscores[i] > 650:\n",
    "            CreditApproval.append(\"Yes\")\n",
    "        else:\n",
    "            CreditApproval.append(\"No\")\n",
    "print(\"Credit Approval:\", CreditApproval)"
   ]
  },
  {
   "cell_type": "code",
   "execution_count": 24,
   "id": "46aa6406-3133-462b-b8e5-530fdb361387",
   "metadata": {},
   "outputs": [
    {
     "name": "stdout",
     "output_type": "stream",
     "text": [
      "People dictionary: [{'fname': 'Mark', 'lname': 'Atkins', 'byear': 1994, 'bmonth': 8, 'bday': 11, 'creditapproval': 'No'}, {'fname': 'Sarah', 'lname': 'Baez', 'byear': 2009, 'bmonth': 5, 'bday': 10, 'creditapproval': 'No'}, {'fname': 'Betty', 'lname': 'Barnes', 'byear': 1977, 'bmonth': 1, 'bday': 1, 'creditapproval': 'No'}, {'fname': 'Lynne', 'lname': 'Davis', 'byear': 2004, 'bmonth': 10, 'bday': 10, 'creditapproval': 'No'}, {'fname': 'Minnie', 'lname': 'Hines', 'byear': 1950, 'bmonth': 8, 'bday': 27, 'creditapproval': 'Yes'}, {'fname': 'Scott', 'lname': 'Lowery', 'byear': 2015, 'bmonth': 3, 'bday': 27, 'creditapproval': 'No'}, {'fname': 'Nathaniel', 'lname': 'Marsaw', 'byear': 1977, 'bmonth': 5, 'bday': 4, 'creditapproval': 'No'}, {'fname': 'Brenda', 'lname': 'Stuart', 'byear': 2001, 'bmonth': 9, 'bday': 16, 'creditapproval': 'No'}, {'fname': 'Charles', 'lname': 'Ward', 'byear': 2001, 'bmonth': 8, 'bday': 25, 'creditapproval': 'No'}, {'fname': 'Lucy', 'lname': 'Wendt', 'byear': 2021, 'bmonth': 8, 'bday': 16, 'creditapproval': 'No'}]\n"
     ]
    }
   ],
   "source": [
    "#Create dictionary for the 10 people\n",
    "people = []\n",
    "for i in range(10):\n",
    "    person = {\n",
    "        'fname': fname[i] if i < len(fname) else names.get_first_name(),\n",
    "        'lname': lnames[i],\n",
    "        'byear': byears[i],\n",
    "        'bmonth': bmonths[i],\n",
    "        'bday': bdays[i],\n",
    "        'creditapproval': CreditApproval[i]\n",
    "    }\n",
    "    people.append(person)\n",
    "\n",
    "print(\"People dictionary:\", people)"
   ]
  },
  {
   "cell_type": "code",
   "execution_count": null,
   "id": "dfbd24eb-b74f-4661-b594-e34afa3d1890",
   "metadata": {},
   "outputs": [],
   "source": []
  }
 ],
 "metadata": {
  "kernelspec": {
   "display_name": "Python 3 (ipykernel)",
   "language": "python",
   "name": "python3"
  },
  "language_info": {
   "codemirror_mode": {
    "name": "ipython",
    "version": 3
   },
   "file_extension": ".py",
   "mimetype": "text/x-python",
   "name": "python",
   "nbconvert_exporter": "python",
   "pygments_lexer": "ipython3",
   "version": "3.11.10"
  }
 },
 "nbformat": 4,
 "nbformat_minor": 5
}
